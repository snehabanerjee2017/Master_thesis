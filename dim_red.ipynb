{
 "cells": [
  {
   "cell_type": "code",
   "execution_count": null,
   "metadata": {},
   "outputs": [],
   "source": [
    "import argparse\n",
    "import datetime\n",
    "import logging\n",
    "import sys\n",
    "from pathlib import Path\n",
    "import time\n",
    "\n",
    "import numpy as np\n",
    "import torch\n",
    "import yaml\n",
    "\n",
    "torch.cuda.is_available()\n",
    "import os\n",
    "# print(torch.cuda.get_device_name(1))\n",
    "from tensorboardX import SummaryWriter\n",
    "from tqdm import tqdm\n",
    "from lib.dbscan_utils import validate\n",
    "from model.encoders import PointNet, DGCNN, SCGEncoder\n",
    "from model.model import MLP, SiamCluster\n",
    "from dataset.dataloader import data_loader\n",
    "from sklearn.decomposition import PCA\n",
    "from sklearn.manifold import TSNE"
   ]
  },
  {
   "cell_type": "code",
   "execution_count": null,
   "metadata": {},
   "outputs": [],
   "source": [
    "config = yaml.load(open(\"config/config_dim_red.yaml\"),Loader=yaml.FullLoader)"
   ]
  },
  {
   "cell_type": "code",
   "execution_count": null,
   "metadata": {},
   "outputs": [],
   "source": [
    "config"
   ]
  },
  {
   "cell_type": "code",
   "execution_count": null,
   "metadata": {},
   "outputs": [],
   "source": [
    "train_data_loader, val_data_loader = data_loader(config)"
   ]
  },
  {
   "cell_type": "code",
   "execution_count": null,
   "metadata": {},
   "outputs": [],
   "source": [
    "with torch.cuda.device(config['util']['gpu']):\n",
    "        dims = config['model']['dims']\n",
    "        # print(torch.cuda.current_device())\n",
    "        l_dim = dims\n",
    "        if config['model']['md'] == 'pn':\n",
    "            net = PointNet(dims=config['model']['dims'], is_normal=False, feature_transform=True)\n",
    "        elif config['model']['md'] == 'scg':\n",
    "            dims = 512 * 3\n",
    "            l_dim = 512 * 2\n",
    "            net = SCGEncoder(last_dims=config['model']['dims'], is_normal=config['training']['normal'], n_rkhs=512)\n",
    "        elif config['model']['md'] == 'dg':\n",
    "            net = DGCNN(dims=dims, k=config['model']['neighs'])\n",
    "        else:\n",
    "            raise NotImplementedError\n",
    "        net = net.cuda()\n",
    "        projector = MLP(in_size=dims, out_size=config['model']['proj_dim']).cuda()\n",
    "        predictor = MLP(in_size=config['model']['proj_dim'], out_size=config['model']['proj_dim'], hidden_size=512, used='pred').cuda()\n",
    "        # decoder = FoldingNet(dims, k=32).cuda()\n",
    "        # decoder = DecoderFC(latent_dim=dims, output_pts=config['dataset']['num_]).cuda()\n",
    "        decoder = None\n",
    "        ema_net = SiamCluster(net, projector, predictor, dim=l_dim, clusters=config['model']['K'],\n",
    "                            tau=config['model']['tau'], l_type=config['training']['l_type'], decoder=decoder).cuda()"
   ]
  },
  {
   "cell_type": "code",
   "execution_count": null,
   "metadata": {},
   "outputs": [],
   "source": [
    "try:\n",
    "    checkpoint = torch.load(config['model']['path'])\n",
    "    ema_net.load_state_dict(checkpoint['model_state_dict'])\n",
    "    print('Use pretrain model')\n",
    "except Exception as e:\n",
    "    print('No existing model, starting training from scratch {}'.format(e))"
   ]
  },
  {
   "cell_type": "code",
   "execution_count": null,
   "metadata": {},
   "outputs": [],
   "source": [
    "pca = PCA(n_components=config['pca']['n_components'])\n",
    "tsne = TSNE(n_components=config['tsne']['n_components'])"
   ]
  },
  {
   "cell_type": "code",
   "execution_count": null,
   "metadata": {},
   "outputs": [],
   "source": [
    "all_points = []\n",
    "for batch_id, val_data in tqdm(enumerate(val_data_loader, 0), total=len(val_data_loader), smoothing=0.9,desc = 'validation dataset'):\n",
    "                x1_val, x2_val = val_data\n",
    "                x1_val = x1_val.cuda()\n",
    "                x1_val = x1_val.transpose(2, 1)\n",
    "                x2_val = x2_val.cuda()\n",
    "                x2_val = x2_val.transpose(2, 1)\n",
    "                emb =  ema_net(x1_val,return_embedding=config['training']['return_embedding'])\n",
    "                all_points.append(emb[0].detach().cpu().numpy())"
   ]
  },
  {
   "cell_type": "code",
   "execution_count": null,
   "metadata": {},
   "outputs": [],
   "source": [
    "all_points = np.concatenate(all_points,axis=0)"
   ]
  },
  {
   "cell_type": "code",
   "execution_count": null,
   "metadata": {},
   "outputs": [],
   "source": [
    "all_points.shape"
   ]
  },
  {
   "cell_type": "code",
   "execution_count": 21,
   "metadata": {},
   "outputs": [],
   "source": [
    "x1_pca = pca.fit_transform(all_points)\n",
    "print(x1_pca.shape)\n",
    "x1_tsne = tsne.fit_transform(x1_pca)\n",
    "print(x1_tsne.shape)"
   ]
  },
  {
   "cell_type": "code",
   "execution_count": null,
   "metadata": {},
   "outputs": [],
   "source": [
    "config['training']['return_embedding']"
   ]
  },
  {
   "cell_type": "code",
   "execution_count": null,
   "metadata": {},
   "outputs": [],
   "source": [
    "config['util']['gpu']"
   ]
  },
  {
   "cell_type": "code",
   "execution_count": null,
   "metadata": {},
   "outputs": [],
   "source": []
  }
 ],
 "metadata": {
  "kernelspec": {
   "display_name": "Python 3",
   "language": "python",
   "name": "python3"
  },
  "language_info": {
   "codemirror_mode": {
    "name": "ipython",
    "version": 3
   },
   "file_extension": ".py",
   "mimetype": "text/x-python",
   "name": "python",
   "nbconvert_exporter": "python",
   "pygments_lexer": "ipython3",
   "version": "3.8.10"
  }
 },
 "nbformat": 4,
 "nbformat_minor": 2
}
